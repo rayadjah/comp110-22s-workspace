{
 "cells": [
  {
   "cell_type": "markdown",
   "metadata": {},
   "source": [
    "# Analysis for Continuous Improvement\n",
    "\n",
    "Author Name: Raymond Adjah\n",
    "\n",
    "9-digit PID: 730397634\n",
    "\n",
    "Continuous Improvement embraces a belief there is _always room to make things better_. It is a mindset and process we value and practice in this course. In this assignment, you are able to practice continuous improvement and contribute to the design ideas of the course.\n",
    "\n",
    "## Brainstorming Ideas\n",
    "\n",
    "Reflect on your personal experiences and observations in COMP110 and **brainstorm modifications to the course that _create value_ beyond its current design**. When brainstorming, try not to be critical of the ideas you come up with regarding scale, stakeholders impacted, or for any other reasons. In the markdown cell below, brainstorm 3 to 5 ideas you think would create value for you.\n",
    "\n",
    "Each brainstormed idea should state a. the suggested change or addition, b. what the expected value created, and c. which specific stakeholders would benefit.  If helpful, expand on the following template \"The course should (state idea here) because it will (state value created here) for (insert stakeholders here).\"\n",
    "\n",
    "Example A: \"The course should use only examples from psychology experiments because it will be more relevant for students who are psychology majors.\"\n",
    "\n",
    "Example B: \"The course should not have post-lesson questions because they are not useful for most students in the class.\""
   ]
  },
  {
   "cell_type": "markdown",
   "metadata": {},
   "source": [
    "### Part 1. Creative Ideation\n",
    "\n",
    "1. The pace of the course should be slowed down to help inexperienced students the fundamentals.\n",
    "2. Classes should be taught synchronously in order to make the process easier for instructional staff. \n",
    "3. Lectures should not be recorded so that everyone is required to attend in person and the students will have to pay attention.\n",
    "4. More relevant concepts should covered in class to prepare the future workforce for real-world problems.\n",
    "5. Tutoring and office hours should be increased and more available for students struggling in the course."
   ]
  },
  {
   "cell_type": "markdown",
   "metadata": {},
   "source": []
  },
  {
   "cell_type": "markdown",
   "metadata": {},
   "source": [
    "## Connecting with Available Data\n",
    "\n",
    "The data you have available for this analysis is limited to the anonymized course survey you and your peers filled out a few weeks ago. The data is found in the `survey.csv` file in this exercise directory. Each row represents an individual survey response. Each column has a description which can be found on the project write-up here: <https://22s.comp110.com/exercises/ex08.html>\n",
    "\n",
    "Review the list of available data and identify which one of your ideas _does not_, or is _least likely to_, have relevant data to support the analysis of your idea to create value. In the box below, identify which of your ideas lacks data and suggest how we might be able to collect this data in the future. One aspect of _continuous improvement_ is trying to avoid \"tunnel vision\" where possible improvements are not considered because there is no data available to analyze it. Identifying new data sources can unlock improvements!"
   ]
  },
  {
   "cell_type": "markdown",
   "metadata": {},
   "source": [
    "### Part 2. Identifying Missing Data\n",
    "\n",
    "1. Idea without sufficient data to analyze: More relevant concepts should be covered in class.\n",
    "\n",
    "2. Suggestion for how to collect data to support this idea in the future: Ask current programmers what they wished they learned in Comp 110."
   ]
  },
  {
   "cell_type": "markdown",
   "metadata": {},
   "source": [
    "## Choosing an Idea to Analyze\n",
    "\n",
    "Consider those of your ideas which _do_ seem likely to have relevant data to analyze. If none of your ideas do, spend a few minutes and brainstorm another idea or two with the added connection of data available on hand and add those ideas to your brainstormed ideas list.\n",
    "\n",
    "Select the one idea which you believe is _most valuable_ to analyze relative to the others and has data to support the analysis of. In the markdown cell for Part 3 below, identify the idea you are exploring and articulate why you believe it is most valuable (e.g. widest impact, biggest opportunity for improvement, simplest change for significant improvement, and so on)."
   ]
  },
  {
   "cell_type": "markdown",
   "metadata": {},
   "source": [
    "### Part 3. Choosing Your Analysis\n",
    "\n",
    "1. Idea to analyze with available data: Lectures should not be recorded and taught synchronously.\n",
    "\n",
    "2. This idea is more valuable than the others brainstormed because: If people aren't going to lecture, then they won't understand the concepts well enough to ask questions during office hours. There is also more data from the survey on students' opinions about lecture format.\n"
   ]
  },
  {
   "cell_type": "markdown",
   "metadata": {},
   "source": [
    "## Your Analysis\n",
    "\n",
    "Before you begin analysis, a reminder that we do not expect the data to support everyone's ideas and you can complete this exercise for full credit even if the data does not clearly support your suggestion or even completely refutes it. What we are looking for is a logical attempt to explore the data using the techniques you have learned up until now in a way that _either_ supports, refutes, or does not have a clear result and then to reflect on your findings after the analysis.\n",
    "\n",
    "Using the utility functions you created for the previous exercise, you will continue with your analysis in the following part. Before you begin, refer to the rubric on the technical expectations of this section in the exercise write-up.\n",
    "\n",
    "In this section, you are expected to interleave code and markdown cells such that for each step of your analysis you are starting with an English description of what you are planning to do next in a markdown cell, followed by a Python cell that performs that step of the analysis."
   ]
  },
  {
   "cell_type": "markdown",
   "metadata": {},
   "source": [
    "### Part 4. Analysis\n",
    "\n",
    "We begin by changing some settings in the notebook to automatically reload changes to imported files."
   ]
  },
  {
   "cell_type": "code",
   "execution_count": 1,
   "metadata": {},
   "outputs": [],
   "source": [
    "%reload_ext autoreload\n",
    "%autoreload 2"
   ]
  },
  {
   "cell_type": "markdown",
   "metadata": {},
   "source": [
    "We continue by importing the helper functions from `data_utils`."
   ]
  },
  {
   "cell_type": "code",
   "execution_count": 2,
   "metadata": {},
   "outputs": [],
   "source": [
    "# TODO: You complete the code blocks from here forward!\n",
    "from data_utils import read_csv_rows, column_values, columnar, head, select, concat, count, mode, avg"
   ]
  },
  {
   "cell_type": "markdown",
   "metadata": {},
   "source": [
    "Next, ... (you take it from here and add additional code and markdown cells to read in the CSV file and process it as needed)"
   ]
  },
  {
   "cell_type": "markdown",
   "metadata": {},
   "source": [
    "Reading in the survey data and looking at the first 5 results in order to get an idea of what the data looks like"
   ]
  },
  {
   "cell_type": "code",
   "execution_count": 3,
   "metadata": {},
   "outputs": [
    {
     "name": "stdout",
     "output_type": "stream",
     "text": [
      "{'row': ['0', '1'], 'year': ['22', '25'], 'unc_status': ['Returning UNC Student', 'Returning UNC Student'], 'comp_major': ['No', 'No'], 'primary_major': ['Mathematics', 'Mathematics'], 'data_science': ['No', 'Yes'], 'prereqs': ['MATH 233, MATH 347, MATH 381', 'MATH 130, MATH 231, STOR 155'], 'prior_exp': ['7-12 months', 'None to less than one month!'], 'ap_principles': ['No', ''], 'ap_a': ['No', ''], 'other_comp': ['UNC', ''], 'prior_time': ['1 month or so', ''], 'languages': ['Python, R / Matlab / SAS', ''], 'hours_online_social': ['3 to 5 hours', '0 to 2 hours'], 'hours_online_work': ['0 to 2 hours', '5 to 10 hours'], 'lesson_time': ['6', '4'], 'sync_perf': ['2', '3'], 'all_sync': ['2', '3'], 'flipped_class': ['1', '1'], 'no_hybrid': ['2', '2'], 'own_notes': ['4', '6'], 'own_examples': ['4', '4'], 'oh_visits': ['0', '5'], 'ls_effective': ['7', '5'], 'lsqs_effective': ['3', '5'], 'programming_effective': ['7', '5'], 'qz_effective': ['5', '5'], 'oh_effective': ['', '7'], 'tutoring_effective': ['', '6'], 'pace': ['1', '6'], 'difficulty': ['1', '6'], 'understanding': ['7', '3'], 'interesting': ['5', '4'], 'valuable': ['6', '6'], 'would_recommend': ['5', '4']}\n"
     ]
    }
   ],
   "source": [
    "SURVEY_DATA_CSV_FILE_PATH: str = \"../../data/survey.csv\"\n",
    "survey_data = read_csv_rows(SURVEY_DATA_CSV_FILE_PATH)\n",
    "colBased = columnar(survey_data)\n",
    "print(head(colBased,2))"
   ]
  },
  {
   "cell_type": "markdown",
   "metadata": {},
   "source": [
    "Cleaning up the data so that it only shows the columns which are relevant to our idea.\n",
    "The columns we care about are: sync_perf, all_sync, flipped_class, no_hybrid because they have to do with lecture format.\n",
    "I print out the first 5 of each column and see that they are only the columns that we want."
   ]
  },
  {
   "cell_type": "code",
   "execution_count": 4,
   "metadata": {},
   "outputs": [
    {
     "name": "stdout",
     "output_type": "stream",
     "text": [
      "{'sync_perf': ['2', '3', '3', '5', '3'], 'all_sync': ['2', '3', '4', '4', '3'], 'flipped_class': ['1', '1', '2', '3', '3'], 'no_hybrid': ['2', '2', '1', '3', '2']}\n"
     ]
    }
   ],
   "source": [
    "cols_cared = ['sync_perf', 'all_sync', 'flipped_class', 'no_hybrid']\n",
    "selected_col = select(colBased, cols_cared)\n",
    "print(head(selected_col,5))"
   ]
  },
  {
   "cell_type": "markdown",
   "metadata": {},
   "source": [
    "Find the mode of each column in order to see which responses received the most votes using my mode helper function."
   ]
  },
  {
   "cell_type": "code",
   "execution_count": 5,
   "metadata": {},
   "outputs": [
    {
     "name": "stdout",
     "output_type": "stream",
     "text": [
      "sync_perf most popular response:  2\n",
      "all_sync most popular response:  1\n",
      "flipped_class most popular response:  1\n",
      "no_hybrid most popular response:  1\n"
     ]
    }
   ],
   "source": [
    "sync_perf_col = column_values(survey_data, 'sync_perf')\n",
    "sync_perf_counts = count(sync_perf_col)\n",
    "sync_perf_mode = mode(sync_perf_counts)\n",
    "print(\"sync_perf most popular response: \", sync_perf_mode)\n",
    "\n",
    "all_sync_col = column_values(survey_data, 'all_sync')\n",
    "all_sync_counts = count(all_sync_col)\n",
    "all_sync_mode = mode(all_sync_counts)\n",
    "print(\"all_sync most popular response: \", all_sync_mode)\n",
    "\n",
    "flipped_class_col = column_values(survey_data, 'flipped_class')\n",
    "flipped_class_counts = count(flipped_class_col)\n",
    "flipped_class_mode = mode(flipped_class_counts)\n",
    "print(\"flipped_class most popular response: \", flipped_class_mode)\n",
    "\n",
    "no_hybrid_col = column_values(survey_data, 'no_hybrid')\n",
    "no_hybrid_counts = count(no_hybrid_col)\n",
    "no_hybrid_mode = mode(no_hybrid_counts)\n",
    "print(\"no_hybrid most popular response: \", no_hybrid_mode)"
   ]
  },
  {
   "cell_type": "markdown",
   "metadata": {},
   "source": [
    "Because the mode does not tell the whole story (since the votes may have been close between two or more responses), let's also consider the mean of each column in order to get an idea of how the class feels as a whole using my avg helper function."
   ]
  },
  {
   "cell_type": "code",
   "execution_count": 6,
   "metadata": {},
   "outputs": [
    {
     "name": "stdout",
     "output_type": "stream",
     "text": [
      "sync_perf_col mean:  3.0387096774193547\n",
      "all_sync mean:  2.753225806451613\n",
      "flipped_class mean:  2.988709677419355\n",
      "no_hybrid mean:  2.108064516129032\n"
     ]
    }
   ],
   "source": [
    "print('sync_perf_col mean: ', avg(sync_perf_col))\n",
    "print('all_sync mean: ', avg(all_sync_col))\n",
    "print('flipped_class mean: ', avg(flipped_class_col))\n",
    "print('no_hybrid mean: ', avg(no_hybrid_col))"
   ]
  },
  {
   "cell_type": "markdown",
   "metadata": {},
   "source": [
    "## Conclusion\n",
    "\n",
    "In the following markdown cell, write a reflective conclusion given the analysis you performed and identify recommendations.\n",
    "\n",
    "If your analysis of the data supports your idea, state your recommendation for the change and summarize the data analysys results you found which support it. Additionally, describe any extensions or refinements to this idea which might be explored further. Finally, discuss the potential costs, trade-offs, or stakeholders who may be negatively impacted by this proposed change.\n",
    "\n",
    "If your analysis of the data is inconclusive, summarize why your data analysis results were inconclusive in the support of your idea. Additionally, describe what experimental idea implementation or additional data collection might help build more confidence in assessing your idea. Finally, discuss the potential costs, trade-offs, or stakeholders who may be negatively impacted by experimenting with your idea.\n",
    "\n",
    "Finally, if your analysis of the data does not support it, summarize your data analysis results and why it refutes your idea. Discuss the potential costs, trade-offs, or stakeholders who may be negatively impacted by this proposed change. If you disagree with the validity of the findings, describe why your idea still makes sense to implement and what alternative data would better support it. If you agree with the validity of the data analysis, describe what alternate ideas or extensions you would explore instead. "
   ]
  },
  {
   "cell_type": "markdown",
   "metadata": {},
   "source": [
    "### Part 5. Conclusion\n",
    "\n"
   ]
  },
  {
   "cell_type": "markdown",
   "metadata": {},
   "source": [
    "I wanted to make lectures 100% synchronous but according to the mode and mean of the survey data, most students prefer asynchronous lectures. The data from this survey refutes my idea that synchronous lectures would be the best option because most students do not believe there is a need to move from asynchronous lectures. I believe students with no experience with programming will be most negatively affected if class remains both synchronous and asynchronous. However, I do not think any stakeholder will be negatively affected with lectures being entirely synchronous. I believe my idea makes sense because most people taking this class have little to no experience with programming and that makes it extremely difficult to learn by primarily watcing lecture videos. The survey question asking about years of programming experience supports my argument by indicating how many of the students taking this class have little programming experience. Even though according to the survey data most people do not agree with me, I still making class entirely synchrously is the best way to learn in comp 110."
   ]
  }
 ],
 "metadata": {
  "interpreter": {
   "hash": "aee8b7b246df8f9039afb4144a1f6fd8d2ca17a180786b69acc140d282b71a49"
  },
  "kernelspec": {
   "display_name": "Python 3.10.2 64-bit",
   "language": "python",
   "name": "python3"
  },
  "language_info": {
   "codemirror_mode": {
    "name": "ipython",
    "version": 3
   },
   "file_extension": ".py",
   "mimetype": "text/x-python",
   "name": "python",
   "nbconvert_exporter": "python",
   "pygments_lexer": "ipython3",
   "version": "3.10.1"
  },
  "orig_nbformat": 4
 },
 "nbformat": 4,
 "nbformat_minor": 2
}
