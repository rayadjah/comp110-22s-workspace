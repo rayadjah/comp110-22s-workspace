{
 "cells": [
  {
   "cell_type": "markdown",
   "metadata": {},
   "source": [
    "# Working with CSV Data\n",
    "Comma- separated value files are commonly used for sharing tables of data between systems.\n",
    "\n",
    "Programs like Microsoft Excel, Google sheets, as well as popular data base systems can produce CSV files as exports and programs, such as the one we will write today, have libraries for reading and processing data in from CSV file"
   ]
  },
  {
   "cell_type": "code",
   "execution_count": null,
   "metadata": {},
   "outputs": [],
   "source": [
    "%reload_ext autoreload\n",
    "%autoreload 2\n",
    "print(\"Autoreload of imported modules enabled. Be sure to save your modules!\")"
   ]
  },
  {
   "cell_type": "markdown",
   "metadata": {},
   "source": [
    "## Importing Utility Functions\n",
    "\n",
    "Our helper functions will be located in 'lessons/data_utils.py' and we will import the functions in the code cell below."
   ]
  },
  {
   "cell_type": "code",
   "execution_count": 1,
   "metadata": {},
   "outputs": [
    {
     "data": {
      "text/plain": [
       "[{'date': '10/16', 'low': '56', 'high': '75'},\n",
       " {'date': '10/17', 'low': '57', 'high': '76'},\n",
       " {'date': '10/18', 'low': '62', 'high': '75'}]"
      ]
     },
     "execution_count": 1,
     "metadata": {},
     "output_type": "execute_result"
    }
   ],
   "source": [
    "from data_utils import read_csv_rows\n",
    "\n",
    "\n",
    "data_file: str = \"../data/weather.csv\"\n",
    "data_table: list[dict[str, str]] = read_csv_rows(data_file)\n",
    "data_table"
   ]
  }
 ],
 "metadata": {
  "interpreter": {
   "hash": "66e9e9b756a09b938318f67cb2760efaf28dfd3010673c5ab9488a075aa539ca"
  },
  "kernelspec": {
   "display_name": "Python 3.10.1 64-bit",
   "language": "python",
   "name": "python3"
  },
  "language_info": {
   "codemirror_mode": {
    "name": "ipython",
    "version": 3
   },
   "file_extension": ".py",
   "mimetype": "text/x-python",
   "name": "python",
   "nbconvert_exporter": "python",
   "pygments_lexer": "ipython3",
   "version": "3.10.1"
  },
  "orig_nbformat": 4
 },
 "nbformat": 4,
 "nbformat_minor": 2
}
